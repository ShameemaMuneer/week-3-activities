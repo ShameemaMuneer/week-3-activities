{
 "cells": [
  {
   "cell_type": "markdown",
   "metadata": {
    "id": "4z_Z-K1tlrS7"
   },
   "source": [
    "## 1. Complete the following code to find the area of an equilateral triangle. Output should be as displayed"
   ]
  },
  {
   "cell_type": "code",
   "execution_count": 2,
   "metadata": {
    "id": "rP2qFD_SlrS_"
   },
   "outputs": [
    {
     "name": "stdout",
     "output_type": "stream",
     "text": [
      "Enter the side of the equilateral triangle: 4\n",
      "Area of the equilateral triangle is:  6.928203230275509\n"
     ]
    }
   ],
   "source": [
    "import math\n",
    "side = float(input(\"Enter the side of the equilateral triangle: \"))\n",
    "area = ((math.sqrt(3))/4)*pow(side,2)\n",
    "print(\"Area of the equilateral triangle is: \",area)\n"
   ]
  },
  {
   "cell_type": "markdown",
   "metadata": {
    "id": "TjVKjIfclrTB"
   },
   "source": [
    "## 2. Write a program to count the number of each characters in a string"
   ]
  },
  {
   "cell_type": "code",
   "execution_count": 6,
   "metadata": {
    "id": "JY5seVUQlrTC"
   },
   "outputs": [
    {
     "name": "stdout",
     "output_type": "stream",
     "text": [
      "enter the name string: izinhash\n",
      "The count of each character is:  {'i': 2, 'z': 1, 'n': 1, 'h': 2, 'a': 1, 's': 1}\n"
     ]
    }
   ],
   "source": [
    "name_str=input(\"enter the name string: \")\n",
    "all_freq={}\n",
    "for i in name_str:\n",
    "    if i in all_freq:\n",
    "        all_freq[i]+=1\n",
    "    else:\n",
    "        all_freq[i]=1\n",
    "print(\"The count of each character is: \",str(all_freq))"
   ]
  },
  {
   "cell_type": "markdown",
   "metadata": {
    "id": "l3LCULfklrTD"
   },
   "source": [
    "## Write a program to find the area and perimeter of a rectangle using functions"
   ]
  },
  {
   "cell_type": "code",
   "execution_count": 26,
   "metadata": {
    "id": "8haQD8edlrTD"
   },
   "outputs": [
    {
     "name": "stdout",
     "output_type": "stream",
     "text": [
      "enter the length of the rectangle2\n",
      "enter the width of the rectangle4\n",
      "perimeter of the given rectangle is:  12.0\n",
      "Area of the given rectangle is:  8.0\n"
     ]
    }
   ],
   "source": [
    "l=float(input(\"enter the length of the rectangle\"))\n",
    "w=float(input(\"enter the width of the rectangle\"))\n",
    "    \n",
    "def perimeter(l,w):\n",
    "    \n",
    "    t=(2*l)+(2*w)\n",
    "    return t\n",
    "        \n",
    "print(\"perimeter of the given rectangle is: \",perimeter(l,w))\n",
    "    \n",
    "def area(l,w):\n",
    "    a=l*w\n",
    "    return a\n",
    "print(\"Area of the given rectangle is: \",area(l,w))"
   ]
  },
  {
   "cell_type": "markdown",
   "metadata": {
    "id": "JHK4ZdsflrTE"
   },
   "source": [
    "## 4. Write a program to print the fibonacci series till a specified number"
   ]
  },
  {
   "cell_type": "code",
   "execution_count": 60,
   "metadata": {
    "id": "LyBEj-4SlrTE"
   },
   "outputs": [
    {
     "name": "stdout",
     "output_type": "stream",
     "text": [
      "enter a limit: 8\n",
      "0 ,1 ,1 ,2 ,3 ,5 ,8 ,13 ,"
     ]
    }
   ],
   "source": [
    "def f(n):\n",
    "    n1=0\n",
    "    n2=1\n",
    "    sum=0\n",
    "    for i in range(n):\n",
    "        print(sum,end=\" ,\")\n",
    "        n1=n2\n",
    "        n2=sum\n",
    "        sum=n1+n2\n",
    "f(int(input('enter a limit: ')))        "
   ]
  },
  {
   "cell_type": "markdown",
   "metadata": {
    "id": "u4uBUcQKlrTE"
   },
   "source": [
    "## 5. Complete the following code to find the minimum of 3 number using cinditional statements. Output should be as displayed"
   ]
  },
  {
   "cell_type": "code",
   "execution_count": 65,
   "metadata": {
    "id": "XdZwrZjIlrTF",
    "scrolled": true
   },
   "outputs": [
    {
     "name": "stdout",
     "output_type": "stream",
     "text": [
      "Enter three numbers followed by  : 50 28 77\n",
      "First number : 50\n",
      "Second number : 28\n",
      "Third number : 77\n",
      "28  is smallest\n"
     ]
    }
   ],
   "source": [
    "a,b,c = input(\"Enter three numbers followed by  : \").split()\n",
    "\n",
    "print(\"First number :\",a)\n",
    "print(\"Second number :\",b)\n",
    "print(\"Third number :\",c)\n",
    "\n",
    "def f():\n",
    "    if (a==b)and (b==c):\n",
    "        \n",
    "        print(\"Entered numbers are equal!!!\")\n",
    "    \n",
    "    elif(a<b) and (a<c):\n",
    "        \n",
    "        print(a,\" is smallest\")\n",
    "    \n",
    "    elif(b<a) and (b<c):\n",
    "        \n",
    "        print(b,\" is smallest\")\n",
    "    \n",
    "    elif(c<a) and (c<b):\n",
    "       \n",
    "        print(c,\" is smallest\")\n",
    "f()"
   ]
  },
  {
   "cell_type": "markdown",
   "metadata": {
    "id": "aR_CnToWlrTG"
   },
   "source": [
    "## 6. Write a program to print star pyramind. The number of rows should be taken as input from the user"
   ]
  },
  {
   "cell_type": "code",
   "execution_count": 63,
   "metadata": {
    "id": "M37A-buplrTG"
   },
   "outputs": [
    {
     "name": "stdout",
     "output_type": "stream",
     "text": [
      "enter the number of rows: 5\n",
      "     * \n",
      "    * * \n",
      "   * * * \n",
      "  * * * * \n",
      " * * * * * \n"
     ]
    }
   ],
   "source": [
    "rows=int(input(\"enter the number of rows: \"))\n",
    "for i in range(rows):\n",
    "    \n",
    "    for s in range(i,rows):\n",
    "        print(end=' ')\n",
    "    for j in range(i+1):\n",
    "        print(end='* ')\n",
    "    print()\n"
   ]
  },
  {
   "cell_type": "markdown",
   "metadata": {
    "id": "tlY6aFWBlrTH"
   },
   "source": [
    "## 7. Complete the following code to convert hour into seconds. Output should be as displayed"
   ]
  },
  {
   "cell_type": "code",
   "execution_count": 13,
   "metadata": {
    "id": "YOZQFk7FlrTH"
   },
   "outputs": [
    {
     "name": "stdout",
     "output_type": "stream",
     "text": [
      "enter the time in hours:2.15\n",
      "2.15  Hour is equal to  7740.0  Seconds\n"
     ]
    }
   ],
   "source": [
    "def to_seconds(t):\n",
    "    t=60*60*t\n",
    "    return t\n",
    "time_in_hours =float(input(\"enter the time in hours:\"))\n",
    "print(time_in_hours,\" Hour is equal to \", to_seconds(time_in_hours) ,\" Seconds\")"
   ]
  },
  {
   "cell_type": "markdown",
   "metadata": {
    "id": "CnYorNiLlrTI"
   },
   "source": [
    "## 8. Write a program to print multiplication table as below"
   ]
  },
  {
   "cell_type": "code",
   "execution_count": 51,
   "metadata": {
    "id": "dPQqDPuDlrTI"
   },
   "outputs": [
    {
     "name": "stdout",
     "output_type": "stream",
     "text": [
      "enter the number: 5\n",
      "multiplicaation tableof 5 is: \n",
      "1 * 5 = 5\n",
      "2 * 5 = 10\n",
      "3 * 5 = 15\n",
      "4 * 5 = 20\n",
      "5 * 5 = 25\n",
      "6 * 5 = 30\n",
      "7 * 5 = 35\n",
      "8 * 5 = 40\n",
      "9 * 5 = 45\n",
      "10 * 5 = 50\n"
     ]
    }
   ],
   "source": [
    "number=int(input(\"enter the number: \"))\n",
    "print(\"multiplicaation tableof\",number,\"is: \")\n",
    "def mul_table(number):\n",
    "    for i in range(1,11):\n",
    "        print(i, \"*\" ,number,\"=\" , (i*number))\n",
    "        \n",
    "mul_table(number)        "
   ]
  },
  {
   "cell_type": "markdown",
   "metadata": {
    "id": "Fiaez8iblrTI"
   },
   "source": [
    "# 9. Write a program to take your 5 favorite food as list and print each as 'I like Biriyani'"
   ]
  },
  {
   "cell_type": "code",
   "execution_count": 64,
   "metadata": {
    "id": "39W1zFX7lrTJ",
    "scrolled": false
   },
   "outputs": [
    {
     "name": "stdout",
     "output_type": "stream",
     "text": [
      "Enter your favourite food: Roti and Alpham\n",
      "Enter your favourite food: Dessesrts\n",
      "Enter your favourite food: chocolate\n",
      "Enter your favourite food: Kuzhi Manthi\n",
      "Enter your favourite food: Green Salad\n",
      "['Roti and Alpham', 'Dessesrts', 'chocolate', 'Kuzhi Manthi', 'Green Salad']\n",
      "I Like  Roti and Alpham\n",
      "I Like  Dessesrts\n",
      "I Like  chocolate\n",
      "I Like  Kuzhi Manthi\n",
      "I Like  Green Salad\n"
     ]
    }
   ],
   "source": [
    "food_list=[]\n",
    "for i in range(5):\n",
    "    food_list.append(input(\"Enter your favourite food: \"))\n",
    "print(food_list)\n",
    "for i in food_list:\n",
    "    print(\"I Like \",i)\n"
   ]
  },
  {
   "cell_type": "markdown",
   "metadata": {
    "id": "3vlcDNNEP7d_"
   },
   "source": [
    "## 10. Find error(s) in the following code(if any) and rewrite code.\n",
    "\n"
   ]
  },
  {
   "cell_type": "code",
   "execution_count": 32,
   "metadata": {
    "id": "coREkcY3P9sG"
   },
   "outputs": [
    {
     "name": "stdout",
     "output_type": "stream",
     "text": [
      "Enter the value of x: 5\n",
      "They are unequal\n",
      "They are unequal\n",
      "They are unequal\n",
      "They are unequal\n",
      "They are unequal\n",
      "They are equal\n",
      "They are unequal\n",
      "They are unequal\n",
      "They are unequal\n",
      "They are unequal\n"
     ]
    }
   ],
   "source": [
    "x=int(input(\"Enter the value of x: \"))\n",
    "for y in range (0,10):\n",
    "     if (x==y):\n",
    "        print(\"They are equal\")\n",
    "     else:\n",
    "        print(\"They are unequal\")"
   ]
  },
  {
   "cell_type": "code",
   "execution_count": null,
   "metadata": {},
   "outputs": [],
   "source": []
  }
 ],
 "metadata": {
  "colab": {
   "collapsed_sections": [],
   "name": "Q&A activity student file.ipynb",
   "provenance": []
  },
  "kernelspec": {
   "display_name": "Python 3",
   "language": "python",
   "name": "python3"
  },
  "language_info": {
   "codemirror_mode": {
    "name": "ipython",
    "version": 3
   },
   "file_extension": ".py",
   "mimetype": "text/x-python",
   "name": "python",
   "nbconvert_exporter": "python",
   "pygments_lexer": "ipython3",
   "version": "3.8.8"
  }
 },
 "nbformat": 4,
 "nbformat_minor": 1
}
